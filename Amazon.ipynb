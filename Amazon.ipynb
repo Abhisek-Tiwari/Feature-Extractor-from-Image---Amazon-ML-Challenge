{
 "cells": [
  {
   "cell_type": "code",
   "execution_count": 2,
   "metadata": {},
   "outputs": [],
   "source": [
    "import os\n",
    "import csv\n",
    "import re\n",
    "import cv2\n",s
    "import easyocr\n",
    "import pandas as pd\n",
    "from tqdm import tqdm"
   ]
  },
  {
   "cell_type": "code",
   "execution_count": 22,
   "metadata": {},
   "outputs": [],
   "source": [
    "dataset = pd.read_csv('E:/amazonML/student_resource 3/dataset/test.csv')"
   ]
  },
  {
   "cell_type": "code",
   "execution_count": 3,
   "metadata": {},
   "outputs": [
    {
     "name": "stderr",
     "output_type": "stream",
     "text": [
      "Neither CUDA nor MPS are available - defaulting to CPU. Note: This module is much faster with a GPU.\n",
      "Downloading detection model, please wait. This may take several minutes depending upon your network connection.\n"
     ]
    },
    {
     "name": "stdout",
     "output_type": "stream",
     "text": [
      "Progress: |██████████████████████████████████████████████████| 100.0% Complete"
     ]
    },
    {
     "name": "stderr",
     "output_type": "stream",
     "text": [
      "Downloading recognition model, please wait. This may take several minutes depending upon your network connection.\n"
     ]
    },
    {
     "name": "stdout",
     "output_type": "stream",
     "text": [
      "Progress: |██████████████████████████████████████████████████| 100.0% Complete"
     ]
    },
    {
     "name": "stderr",
     "output_type": "stream",
     "text": [
      "c:\\Users\\ketan\\AppData\\Local\\Programs\\Python\\Python312\\Lib\\site-packages\\easyocr\\detection.py:78: FutureWarning: You are using `torch.load` with `weights_only=False` (the current default value), which uses the default pickle module implicitly. It is possible to construct malicious pickle data which will execute arbitrary code during unpickling (See https://github.com/pytorch/pytorch/blob/main/SECURITY.md#untrusted-models for more details). In a future release, the default value for `weights_only` will be flipped to `True`. This limits the functions that could be executed during unpickling. Arbitrary objects will no longer be allowed to be loaded via this mode unless they are explicitly allowlisted by the user via `torch.serialization.add_safe_globals`. We recommend you start setting `weights_only=True` for any use case where you don't have full control of the loaded file. Please open an issue on GitHub for any issues related to this experimental feature.\n",
      "  net.load_state_dict(copyStateDict(torch.load(trained_model, map_location=device)))\n",
      "c:\\Users\\ketan\\AppData\\Local\\Programs\\Python\\Python312\\Lib\\site-packages\\easyocr\\recognition.py:169: FutureWarning: You are using `torch.load` with `weights_only=False` (the current default value), which uses the default pickle module implicitly. It is possible to construct malicious pickle data which will execute arbitrary code during unpickling (See https://github.com/pytorch/pytorch/blob/main/SECURITY.md#untrusted-models for more details). In a future release, the default value for `weights_only` will be flipped to `True`. This limits the functions that could be executed during unpickling. Arbitrary objects will no longer be allowed to be loaded via this mode unless they are explicitly allowlisted by the user via `torch.serialization.add_safe_globals`. We recommend you start setting `weights_only=True` for any use case where you don't have full control of the loaded file. Please open an issue on GitHub for any issues related to this experimental feature.\n",
      "  state_dict = torch.load(model_path, map_location=device)\n"
     ]
    }
   ],
   "source": [
    "reader = easyocr.Reader(['en'])"
   ]
  },
  {
   "cell_type": "code",
   "execution_count": 4,
   "metadata": {},
   "outputs": [],
   "source": [
    "def get_depth_value(input_string):\n",
    "  count = input_string.count('x')\n",
    "  if count >= 1:\n",
    "    match = re.search(r'x\\s*([\\d.]+)', input_string)\n",
    "    result = match.group(1)\n",
    "    return result\n",
    "  match = re.search(r'[\\d.]+', input_string)\n",
    "  result = match.group(0)\n",
    "  return result\n"
   ]
  },
  {
   "cell_type": "code",
   "execution_count": 5,
   "metadata": {},
   "outputs": [],
   "source": [
    "def get_height_value(input_string):\n",
    "  count = input_string.count('x')\n",
    "  if count >= 2:\n",
    "    match = re.search(r'x\\s*([\\d.]+)(?!.*x)', input_string)\n",
    "    result = match.group(1)\n",
    "    return result\n",
    "  elif count == 1:\n",
    "    match = re.search(r'x\\s*([\\d.]+)', input_string)\n",
    "    result = match.group(1)\n",
    "    return result\n",
    "  match = re.search(r'[\\d.]+', input_string)\n",
    "  result = match.group(0)\n",
    "  return result\n"
   ]
  },
  {
   "cell_type": "code",
   "execution_count": 6,
   "metadata": {},
   "outputs": [],
   "source": [
    "def get_value(input_string):\n",
    "  match = re.search(r'[\\d.]+', input_string)\n",
    "  result = match.group(0)\n",
    "  return result\n"
   ]
  },
  {
   "cell_type": "code",
   "execution_count": 10,
   "metadata": {},
   "outputs": [],
   "source": [
    "def get_wattage(string_list):\n",
    "    # Define the mapping of alternative units to standard units\n",
    "    unit_conversion = {\n",
    "        \"kilowatt\": \"kilowatt\",  \n",
    "        \"kw\": \"kilowatt\",         \n",
    "        \"watt\": \"watt\",     \n",
    "        \"w\": \"watt\",\n",
    "        \"watts\":\"watt\",\n",
    "        \"kilowatts\":\"kilowatt\"\n",
    "    }\n",
    "    \n",
    "    \n",
    "    # Define the regex to match dimensions with the alternative units\n",
    "    units = \"|\".join(unit_conversion.keys())\n",
    "    pattern = re.compile(r'(\\d+\\.?\\d*)\\s*(' + units + r')\\b', re.IGNORECASE)\n",
    "\n",
    "    # Traverse the list of strings in reverse order\n",
    "    for text in reversed(string_list):\n",
    "        # Find all matches in the string\n",
    "        matches = list(pattern.finditer(text))\n",
    "        \n",
    "        # If we found matches, return the last match from this string\n",
    "        if matches:\n",
    "            last_match = matches[-1]\n",
    "            dimension = last_match.group(0)  # The full dimension (e.g., \"3 metres\")\n",
    "            unit = last_match.group(2).lower()  # Extract and standardize the unit\n",
    "            \n",
    "            # Convert the unit if it is in the mapping\n",
    "            standardized_unit = unit_conversion.get(unit, unit)\n",
    "            \n",
    "            # Replace the unit in the dimension with the standardized unit\n",
    "            standardized_dimension = last_match.group(1) + \" \" + standardized_unit\n",
    "            \n",
    "            return standardized_dimension\n",
    "\n",
    "    return \" \"\n",
    "\n"
   ]
  },
  {
   "cell_type": "code",
   "execution_count": 12,
   "metadata": {},
   "outputs": [],
   "source": [
    "def get_voltage(string_list):\n",
    "    # Define the mapping of alternative units to standard units\n",
    "    unit_conversion = {\n",
    "        \"millivolt\": \"millivolt\",   \n",
    "        \"mv\": \"millivolt\",            \n",
    "        \"kilovolt\": \"kilovolt\",       \n",
    "        \"kv\": \"kilovolt\",              \n",
    "        \"volt\": \"volt\",     \n",
    "        \"v\": \"volt\",\n",
    "        \"volts\":\"volt\",\n",
    "        \"kilovolts\":\"kilovolt\",\n",
    "        \"millivolts\":\"millivolt\"\n",
    "    }\n",
    "     # Define the regex to match dimensions with the alternative units\n",
    "    units = \"|\".join(unit_conversion.keys())\n",
    "    pattern = re.compile(r'(\\d+\\.?\\d*)\\s*(' + units + r')\\b', re.IGNORECASE)\n",
    "    \n",
    "    # Traverse the list of strings in reverse order\n",
    "    for text in reversed(string_list):\n",
    "        # Find all matches in the string\n",
    "        matches = list(pattern.finditer(text))\n",
    "        \n",
    "        # If we found matches, return the last match from this string\n",
    "        if matches:\n",
    "            last_match = matches[-1]\n",
    "            dimension = last_match.group(0)  # The full dimension (e.g., \"3 metres\")\n",
    "            unit = last_match.group(2).lower()  # Extract and standardize the unit\n",
    "            \n",
    "            # Convert the unit if it is in the mapping\n",
    "            standardized_unit = unit_conversion.get(unit, unit)\n",
    "            \n",
    "            # Replace the unit in the dimension with the standardized unit\n",
    "            standardized_dimension = last_match.group(1) + \" \" + standardized_unit\n",
    "            \n",
    "            return standardized_dimension\n",
    "    \n",
    "    return \" \"\n",
    "\n",
    "\n"
   ]
  },
  {
   "cell_type": "code",
   "execution_count": 46,
   "metadata": {},
   "outputs": [],
   "source": [
    "def get_weight(string_list):\n",
    "    # Define the mapping of alternative units to standard units\n",
    "    unit_conversion = {\n",
    "        \"mg\":\"milligram\",\n",
    "        \"milligrams\":\"milligram\",\n",
    "        \"milligram\":\"milligram\",\n",
    "        \"kg\":\"kilogram\",\n",
    "        \"kilogram\":\"kilogram\",\n",
    "        \"Kg\":\"kilogram\",\n",
    "        \"kilograms\":\"kilogram\",\n",
    "        \"mcg\":\"microgram\",\n",
    "        \"microgram\":\"microgram\",\n",
    "        \"micrograms\":\"microgram\",\n",
    "        \"gm\":\"gram\",\n",
    "        \"grams\":\"gram\",\n",
    "        \"g\":\"gram\",\n",
    "        \"ounce\":\"ounce\",\n",
    "        \"ounces\":\"ounce\",\n",
    "        \"ton\":\"ton\",\n",
    "        \"tons\":\"ton\",\n",
    "        \"pound\":\"pound\",\n",
    "        \"pounds\":\"pound\",\n",
    "        \"lb\":\"pound\",\n",
    "        \"tonne\": \"ton\", \n",
    "        \"t\": \"ton\",\n",
    "        \"oz\":\"ounce\"\n",
    "    }\n",
    "\n",
    "    # Define the regex to match dimensions with the alternative units\n",
    "    units = \"|\".join(unit_conversion.keys())\n",
    "    pattern = re.compile(r'(\\d+\\.?\\d*)\\s*(' + units + r')\\b', re.IGNORECASE)\n",
    "    \n",
    "    # Traverse the list of strings in reverse order\n",
    "    for text in reversed(string_list):\n",
    "        # Find all matches in the string\n",
    "        matches = list(pattern.finditer(text))\n",
    "        \n",
    "        # If we found matches, return the last match from this string\n",
    "        if matches:\n",
    "            last_match = matches[-1]\n",
    "            dimension=last_match.group(0)\n",
    "            \n",
    "            unit = last_match.group(2).lower()  # Extract and standardize the unit\n",
    "            \n",
    "            # Convert the unit if it is in the mapping\n",
    "            standardized_unit = unit_conversion.get(unit, unit)\n",
    "            \n",
    "            # Replace the unit in the dimension with the standardized unit\n",
    "            standardized_dimension = dimension + \" \" + standardized_unit\n",
    "            \n",
    "            return standardized_dimension\n",
    "    \n",
    "    return \" \"\n"
   ]
  },
  {
   "cell_type": "code",
   "execution_count": 40,
   "metadata": {},
   "outputs": [],
   "source": [
    "def get_dimension(string_list, att):\n",
    "    # Define the mapping of alternative units to standard units\n",
    "    unit_conversion = {\n",
    "        \"cm\": \"centimetre\",\n",
    "        \"centimetre\": \"centimetre\",\n",
    "        \"foot\": \"foot\",\n",
    "        \"feet\": \"foot\",\n",
    "        \"millimetre\": \"millimetre\",\n",
    "        \"mm\": \"millimetre\",\n",
    "        \"metre\": \"metre\",\n",
    "        \"meter\": \"metre\",\n",
    "        \"m\": \"metre\",\n",
    "        \"inch\": \"inch\",\n",
    "        \"inches\": \"inch\",\n",
    "        \"in\": \"inch\",\n",
    "        \"yard\": \"yard\",\n",
    "        \"yards\": \"yard\"\n",
    "    }\n",
    "\n",
    "    # Define the regex to match dimensions with the alternative units\n",
    "    units = \"|\".join(unit_conversion.keys())\n",
    "    pattern = re.compile(r'(\\d+\\.?\\d*)\\s*(' + units + r')\\b', re.IGNORECASE)\n",
    "    \n",
    "    # Traverse the list of strings in reverse order\n",
    "    for text in reversed(string_list):\n",
    "        # Find all matches in the string\n",
    "        matches = list(pattern.finditer(text))\n",
    "        \n",
    "        # If we found matches, return the last match from this string\n",
    "        if matches:\n",
    "            last_match = matches[-1]\n",
    "            input_val = text\n",
    "            unit = last_match.group(2).lower()  # Extract and standardize the unit\n",
    "            \n",
    "            if att == 'width':\n",
    "                value = get_value(text)\n",
    "            elif att == 'depth':\n",
    "                value = get_depth_value(text)\n",
    "            else:\n",
    "                value = get_height_value(text) \n",
    "            # Convert the unit if it is in the mapping\n",
    "            standardized_unit = unit_conversion.get(unit, unit)\n",
    "            \n",
    "            # Replace the unit in the dimension with the standardized unit\n",
    "            standardized_dimension = value + \" \" + standardized_unit\n",
    "            \n",
    "            return standardized_dimension\n",
    "    \n",
    "    return \" \""
   ]
  },
  {
   "cell_type": "code",
   "execution_count": 15,
   "metadata": {},
   "outputs": [],
   "source": [
    "def get_volume(string_list):\n",
    "    # Define the mapping of alternative units to standard units\n",
    "    unit_conversion = {\n",
    "        \"cubic foot\": \"cubic foot\",\n",
    "        \"cubic feet\": \"cubic foot\",    # Plural form\n",
    "        \"cu ft\": \"cubic foot\",         # Abbreviation\n",
    "        \"cu feet\": \"cubic foot\",       # Abbreviation with plural\n",
    "        \"microlitre\": \"microlitre\",\n",
    "        \"microlitres\": \"microlitre\",   # Plural form\n",
    "        \"µl\": \"microlitre\",            # Abbreviation\n",
    "        \"microliters\": \"microlitre\",   # US spelling plural\n",
    "        \"cup\": \"cup\",\n",
    "        \"cups\": \"cup\",                 # Plural form\n",
    "        \"fluid ounce\": \"fluid ounce\",\n",
    "        \"fluid ounces\": \"fluid ounce\", # Plural form\n",
    "        \"fl oz\": \"fluid ounce\",        # Abbreviation\n",
    "        \"fl ounces\": \"fluid ounce\",    # Abbreviation with plural\n",
    "        \"centilitre\": \"centilitre\",\n",
    "        \"centilitres\": \"centilitre\",   # Plural form\n",
    "        \"cl\": \"centilitre\",            # Abbreviation\n",
    "        \"centiliters\": \"centilitre\",   # US spelling plural\n",
    "        \"imperial gallon\": \"imperial gallon\",\n",
    "        \"imperial gallons\": \"imperial gallon\", # Plural form\n",
    "        \"pint\": \"pint\",\n",
    "        \"pints\": \"pint\",               # Plural form\n",
    "        \"decilitre\": \"decilitre\",\n",
    "        \"decilitres\": \"decilitre\",     # Plural form\n",
    "        \"dl\": \"decilitre\",             # Abbreviation\n",
    "        \"deciliters\": \"decilitre\",     # US spelling plural\n",
    "        \"litre\": \"litre\",\n",
    "        \"litres\": \"litre\",             # Plural form\n",
    "        \"liter\": \"litre\",              # US spelling\n",
    "        \"liters\": \"litre\",             # US spelling plural\n",
    "        \"l\": \"litre\",                  # Abbreviation\n",
    "        \"millilitre\": \"millilitre\",\n",
    "        \"millilitres\": \"millilitre\",   # Plural form\n",
    "        \"ml\": \"millilitre\",            # Abbreviation\n",
    "        \"milliliters\": \"millilitre\",   # US spelling plural\n",
    "        \"quart\": \"quart\",\n",
    "        \"quarts\": \"quart\",             # Plural form\n",
    "        \"cubic inch\": \"cubic inch\",\n",
    "        \"cubic inches\": \"cubic inch\",  # Plural form\n",
    "        \"cu in\": \"cubic inch\",         # Abbreviation\n",
    "        \"cu inches\": \"cubic inch\",     # Abbreviation with plural\n",
    "        \"gallon\": \"gallon\",            # US gallon\n",
    "        \"gallons\": \"gallon\",           # Plural form\n",
    "        \"gal\": \"gallon\"                # Abbreviation\n",
    "    }\n",
    "\n",
    "\n",
    "    # Define the regex to match dimensions with the alternative units\n",
    "    units = \"|\".join(unit_conversion.keys())\n",
    "    pattern = re.compile(r'(\\d+\\.?\\d*)\\s*(' + units + r')\\b', re.IGNORECASE)\n",
    "    \n",
    "    # Traverse the list of strings in reverse order\n",
    "    for text in reversed(string_list):\n",
    "        # Find all matches in the string\n",
    "        matches = list(pattern.finditer(text))\n",
    "        \n",
    "        # If we found matches, return the last match from this string\n",
    "        if matches:\n",
    "            last_match = matches[-1]\n",
    "            dimension = last_match.group(0)# The full dimension (e.g., \"3 metres\")\n",
    "            unit = last_match.group(2).lower()  # Extract and standardize the unit\n",
    "            \n",
    "            # Convert the unit if it is in the mapping\n",
    "            standardized_unit = unit_conversion.get(unit, unit)\n",
    "            \n",
    "            # Replace the unit in the dimension with the standardized unit\n",
    "            standardized_dimension = last_match.group(1) + \" \" + standardized_unit\n",
    "            \n",
    "            return standardized_dimension\n",
    "    \n",
    "    return \" \"\n",
    "\n"
   ]
  },
  {
   "cell_type": "code",
   "execution_count": 17,
   "metadata": {},
   "outputs": [],
   "source": [
    "def preprocess_and_convert_image(image_path):\n",
    "    img = cv2.imread(image_path)\n",
    "    grayscale_img = cv2.cvtColor(img, cv2.COLOR_BGR2GRAY)\n",
    "    results = reader.readtext(grayscale_img)\n",
    "    input_text = []\n",
    "    for result in results:\n",
    "        input_text.append(result[1])\n",
    "    return input_text"
   ]
  },
  {
   "cell_type": "code",
   "execution_count": 18,
   "metadata": {},
   "outputs": [],
   "source": [
    "def process_image(image_name):\n",
    "    \"\"\"Process a single image to extract relevant data.\"\"\"\n",
    "    image_path = os.path.join(image_folder, image_name)\n",
    "    \n",
    "    # Preprocess the image and extract text\n",
    "    string_list = preprocess_and_convert_image(image_path)\n",
    "    \n",
    "    # Extract specific data points\n",
    "    weight = get_weight(string_list, 'weight')\n",
    "    height = get_height_value(' '.join(string_list))\n",
    "    depth = get_depth_value(' '.join(string_list))\n",
    "    wattage = get_wattage(string_list)\n",
    "    voltage = get_voltage(string_list)\n",
    "    volume = get_volume(string_list)\n",
    "    dimension = get_dimension(string_list)\n",
    "    \n",
    "    # Return a dictionary of extracted data\n",
    "    return {\n",
    "        'image_name': image_name,\n",
    "        'weight': weight,\n",
    "        'height': height,\n",
    "        'depth': depth,\n",
    "        'wattage': wattage,\n",
    "        'voltage': voltage,\n",
    "        'volume': volume,\n",
    "        'dimension': dimension\n",
    "    }"
   ]
  },
  {
   "cell_type": "code",
   "execution_count": 20,
   "metadata": {},
   "outputs": [
    {
     "name": "stderr",
     "output_type": "stream",
     "text": [
      "<>:1: SyntaxWarning: invalid escape sequence '\\D'\n",
      "<>:1: SyntaxWarning: invalid escape sequence '\\D'\n",
      "C:\\Users\\ketan\\AppData\\Local\\Temp\\ipykernel_23296\\3152881710.py:1: SyntaxWarning: invalid escape sequence '\\D'\n",
      "  image_folder = \"E:\\Dataset_test\"\n"
     ]
    }
   ],
   "source": [
    "image_folder = \"E:\\Dataset_test\"\n",
    "output_csv = 'output_test.csv'\n",
    "extracted_data = []\n",
    "image_files = os.listdir(image_folder)"
   ]
  },
  {
   "cell_type": "code",
   "execution_count": null,
   "metadata": {},
   "outputs": [],
   "source": [
    "for image_file in tqdm(image_files):\n",
    "    if image_file.endswith(('.jpg', '.png', '.jpeg')):  # Adjust based on your image formats\n",
    "        result = process_image(image_file)\n",
    "        extracted_data.append(result)\n",
    "\n",
    "# Write the extracted data to a CSV file\n",
    "csv_columns = ['image_name', 'weight', 'height', 'depth', 'wattage', 'voltage', 'volume', 'dimension']\n",
    "\n",
    "with open(output_csv, 'w', newline='') as csvfile:\n",
    "    writer = csv.DictWriter(csvfile, fieldnames=csv_columns)\n",
    "    writer.writeheader()\n",
    "    writer.writerows(extracted_data)\n",
    "\n",
    "print(f\"Data successfully saved to {output_csv}\")"
   ]
  },
  {
   "cell_type": "code",
   "execution_count": 26,
   "metadata": {},
   "outputs": [
    {
     "data": {
      "text/plain": [
       "[0         https://m.media-amazon.com/images/I/110EibNycl...\n",
       " 1         https://m.media-amazon.com/images/I/11TU2clswz...\n",
       " 2         https://m.media-amazon.com/images/I/11TU2clswz...\n",
       " 3         https://m.media-amazon.com/images/I/11TU2clswz...\n",
       " 4         https://m.media-amazon.com/images/I/11gHj8dhhr...\n",
       "                                 ...                        \n",
       " 131182    https://m.media-amazon.com/images/I/A1rVsIzEtk...\n",
       " 131183    https://m.media-amazon.com/images/I/A1rdvZ5zDd...\n",
       " 131184    https://m.media-amazon.com/images/I/A1rdvZ5zDd...\n",
       " 131185    https://m.media-amazon.com/images/I/A1tnTUPyr7...\n",
       " 131186    https://m.media-amazon.com/images/I/A1tnTUPyr7...\n",
       " Name: image_link, Length: 131187, dtype: object]"
      ]
     },
     "execution_count": 26,
     "metadata": {},
     "output_type": "execute_result"
    }
   ],
   "source": [
    "urls"
   ]
  },
  {
   "cell_type": "code",
   "execution_count": 43,
   "metadata": {},
   "outputs": [],
   "source": [
    "urls = list(dataset['image_link'])\n",
    "attributes = list(dataset['entity_name'])\n",
    " \n"
   ]
  },
  {
   "cell_type": "code",
   "execution_count": 49,
   "metadata": {},
   "outputs": [],
   "source": [
    "\n",
    "Answers = []\n",
    "\n",
    "for url, att in zip(urls, attributes):\n",
    "    # Regular expression pattern to match the alphanumeric part\n",
    "    pattern = re.compile(r\"/I/([a-zA-Z0-9+-]+)\\.jpg\")\n",
    "    match = pattern.search(url)\n",
    "    if match:\n",
    "        image_path = os.path.join(\"E:/Dataset_test\", match.group(1) + \".jpg\")\n",
    "        input_text = preprocess_and_convert_image(image_path)\n",
    "        if att == 'width' or att == 'height' or att == 'depth':\n",
    "            answer = get_dimension(input_text, att)\n",
    "        elif att == 'item_weight' or att == 'maximum_weight_recommendation':\n",
    "            answer = get_weight(input_text)\n",
    "        elif att == 'item_volume':\n",
    "            answer = get_volume(input_text)\n",
    "        elif att == 'voltage':\n",
    "            answer = get_voltage(input_text)\n",
    "        else:\n",
    "            answer = get_wattage(input_text)\n",
    "        Answers.append(answer)\n",
    "    else:\n",
    "        print(f\"No match found for URL: {url}\")\n"
   ]
  },
  {
   "cell_type": "code",
   "execution_count": null,
   "metadata": {},
   "outputs": [],
   "source": [
    "df = pd.DataFrame({\n",
    "    'index': range(len(Answers)),\n",
    "    'prediction': Answers\n",
    "})\n",
    "\n",
    "# Set the 'Index' column as the DataFrame index\n",
    "df.set_index('index', inplace=True)\n",
    "\n",
    "# Print the DataFrame\n",
    "print(df)"
   ]
  },
  {
   "cell_type": "code",
   "execution_count": null,
   "metadata": {},
   "outputs": [],
   "source": []
  }
 ],
 "metadata": {
  "kernelspec": {
   "display_name": "Python 3",
   "language": "python",
   "name": "python3"
  },
  "language_info": {
   "codemirror_mode": {
    "name": "ipython",
    "version": 3
   },
   "file_extension": ".py",
   "mimetype": "text/x-python",
   "name": "python",
   "nbconvert_exporter": "python",
   "pygments_lexer": "ipython3",
   "version": "3.12.2"
  }
 },
 "nbformat": 4,
 "nbformat_minor": 2
}
